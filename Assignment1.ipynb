{
 "cells": [
  {
   "cell_type": "markdown",
   "id": "d96987c5",
   "metadata": {},
   "source": [
    "1. In the below elements which of them are values or an expression? eg:- values can be\n",
    "integer or string and expressions will be mathematical operators.\n",
    "*\n",
    "'hello'\n",
    "-87.8\n",
    "-\n",
    "/\n",
    "+\n",
    "6"
   ]
  },
  {
   "cell_type": "markdown",
   "id": "2b9eae6f",
   "metadata": {},
   "source": [
    "ans:=\n",
    "    values='hello',-87.8,6\n",
    "    expressions=*,+,-,/"
   ]
  },
  {
   "cell_type": "markdown",
   "id": "34c205da",
   "metadata": {},
   "source": [
    "2. What is the difference between string and variable?"
   ]
  },
  {
   "cell_type": "markdown",
   "id": "6d0c95e6",
   "metadata": {},
   "source": [
    "ans:= \n",
    "    A Variable is a store of information, and a String is a type of information you would store in a Variable.\n",
    "    \n",
    "    "
   ]
  },
  {
   "cell_type": "markdown",
   "id": "6cf0fc19",
   "metadata": {},
   "source": [
    "3. Describe three different data types."
   ]
  },
  {
   "cell_type": "markdown",
   "id": "a4b56ac1",
   "metadata": {},
   "source": [
    "ans:=\n",
    "    1: string=String is a collection of alphabets, words or other characters.\n",
    "    eg:\n",
    "    "
   ]
  },
  {
   "cell_type": "code",
   "execution_count": 6,
   "id": "20bfa575",
   "metadata": {},
   "outputs": [
    {
     "name": "stdout",
     "output_type": "stream",
     "text": [
      "<class 'str'>\n"
     ]
    }
   ],
   "source": [
    "x=\"ayush\"\n",
    "print(type(x))"
   ]
  },
  {
   "cell_type": "markdown",
   "id": "8346e11e",
   "metadata": {},
   "source": [
    "2:boolean=It's used to represent the truth value of an expression.\n",
    "eg"
   ]
  },
  {
   "cell_type": "code",
   "execution_count": 7,
   "id": "fab7494e",
   "metadata": {},
   "outputs": [
    {
     "data": {
      "text/plain": [
       "bool"
      ]
     },
     "execution_count": 7,
     "metadata": {},
     "output_type": "execute_result"
    }
   ],
   "source": [
    "type(True)"
   ]
  },
  {
   "cell_type": "markdown",
   "id": "96eb6e0e",
   "metadata": {},
   "source": [
    "3: list: Lists are used to store multiple items in a single variable. \n",
    "eg:"
   ]
  },
  {
   "cell_type": "code",
   "execution_count": 8,
   "id": "4c25f333",
   "metadata": {},
   "outputs": [],
   "source": [
    "x=[\"aysuh\",1,2,[\"ADF\",3,4],(\"fgs\",234)]"
   ]
  },
  {
   "cell_type": "code",
   "execution_count": 9,
   "id": "8cfdf836",
   "metadata": {},
   "outputs": [
    {
     "data": {
      "text/plain": [
       "list"
      ]
     },
     "execution_count": 9,
     "metadata": {},
     "output_type": "execute_result"
    }
   ],
   "source": [
    "type(x)"
   ]
  },
  {
   "cell_type": "markdown",
   "id": "45d5dae7",
   "metadata": {},
   "source": [
    "4. What is an expression made up of? What do all expressions do?"
   ]
  },
  {
   "cell_type": "markdown",
   "id": "b8721c60",
   "metadata": {},
   "source": [
    "ans=\n",
    "An expression is a combination of operators and operands that is interpreted to produce some other value. In any programming language, an expression is evaluated as per the precedence of its operators."
   ]
  },
  {
   "cell_type": "markdown",
   "id": "d3bbb4e4",
   "metadata": {},
   "source": [
    "5.This assignment statements, like spam = 10. What is the difference between an\n",
    "expression and a statement?\n"
   ]
  },
  {
   "cell_type": "markdown",
   "id": "d1a2a370",
   "metadata": {},
   "source": [
    "Ans:A Statement is a action or a command that does something. Ex: If-Else,Loops..etc.and expression is a combination of operators and operands that is interpreted to produce some other value."
   ]
  },
  {
   "cell_type": "markdown",
   "id": "d8f8df7a",
   "metadata": {},
   "source": [
    "6. After running the following code, what does the variable bacon contain?\n",
    "bacon = 22 ,\n",
    "bacon + 1"
   ]
  },
  {
   "cell_type": "markdown",
   "id": "84d6e074",
   "metadata": {},
   "source": [
    "ans=22"
   ]
  },
  {
   "cell_type": "markdown",
   "id": "0cd52639",
   "metadata": {},
   "source": [
    "7. What should the values of the following two terms be?\n",
    "&#39;spam&#39; + &#39;spamspam&#39;,\n",
    "&#39;spam&#39; * 3"
   ]
  },
  {
   "cell_type": "code",
   "execution_count": 15,
   "id": "f411655e",
   "metadata": {},
   "outputs": [
    {
     "data": {
      "text/plain": [
       "'spamspamspam'"
      ]
     },
     "execution_count": 15,
     "metadata": {},
     "output_type": "execute_result"
    }
   ],
   "source": [
    "'spam'+'spamspam'"
   ]
  },
  {
   "cell_type": "code",
   "execution_count": 17,
   "id": "c9cac292",
   "metadata": {},
   "outputs": [
    {
     "data": {
      "text/plain": [
       "'spamspamspam'"
      ]
     },
     "execution_count": 17,
     "metadata": {},
     "output_type": "execute_result"
    }
   ],
   "source": [
    "'spam'*3"
   ]
  },
  {
   "cell_type": "markdown",
   "id": "b3e56da4",
   "metadata": {},
   "source": [
    "8. Why is eggs a valid variable name while 100 is invalid?\n"
   ]
  },
  {
   "cell_type": "markdown",
   "id": "b783632b",
   "metadata": {},
   "source": [
    "ans=because varibale cant start with a number"
   ]
  },
  {
   "cell_type": "markdown",
   "id": "005b93ce",
   "metadata": {},
   "source": [
    "9. What three functions can be used to get the integer, floating-point number, or string\n",
    "version of a value?\n"
   ]
  },
  {
   "cell_type": "markdown",
   "id": "a2cab1bb",
   "metadata": {},
   "source": [
    "ans=int(),float(),str()"
   ]
  },
  {
   "cell_type": "raw",
   "id": "0f743c7e",
   "metadata": {},
   "source": [
    "10. Why does this expression cause an error? How can you fix it?\n",
    "'I have eaten ' + 99 + ' burritos'"
   ]
  },
  {
   "cell_type": "markdown",
   "id": "c5e423e7",
   "metadata": {},
   "source": []
  },
  {
   "cell_type": "markdown",
   "id": "cb651157",
   "metadata": {},
   "source": [
    "ans=because strings can't concatenate strings not integers now to fix this problem we need to typcast 99 i.e."
   ]
  },
  {
   "cell_type": "code",
   "execution_count": 21,
   "id": "012ede26",
   "metadata": {},
   "outputs": [
    {
     "data": {
      "text/plain": [
       "'99'"
      ]
     },
     "execution_count": 21,
     "metadata": {},
     "output_type": "execute_result"
    }
   ],
   "source": [
    "str(99)"
   ]
  },
  {
   "cell_type": "code",
   "execution_count": 22,
   "id": "d3b8f694",
   "metadata": {},
   "outputs": [
    {
     "data": {
      "text/plain": [
       "'I have eaten 99 burritos'"
      ]
     },
     "execution_count": 22,
     "metadata": {},
     "output_type": "execute_result"
    }
   ],
   "source": [
    "'I have eaten ' + '99' + ' burritos'"
   ]
  },
  {
   "cell_type": "code",
   "execution_count": null,
   "id": "c15e6a49",
   "metadata": {},
   "outputs": [],
   "source": []
  }
 ],
 "metadata": {
  "kernelspec": {
   "display_name": "Python 3 (ipykernel)",
   "language": "python",
   "name": "python3"
  },
  "language_info": {
   "codemirror_mode": {
    "name": "ipython",
    "version": 3
   },
   "file_extension": ".py",
   "mimetype": "text/x-python",
   "name": "python",
   "nbconvert_exporter": "python",
   "pygments_lexer": "ipython3",
   "version": "3.9.12"
  }
 },
 "nbformat": 4,
 "nbformat_minor": 5
}
